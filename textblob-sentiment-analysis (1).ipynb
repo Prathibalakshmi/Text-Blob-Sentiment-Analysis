{
 "cells": [
  {
   "cell_type": "markdown",
   "metadata": {},
   "source": [
    "# <center> Sentiment Analysis <center>\n",
    "    "
   ]
  },
  {
   "cell_type": "markdown",
   "metadata": {},
   "source": [
    "Sentiment Analysis can help us find out the mood and emotion of the customer in reviews. Sentiment Analysis is the process of analysing data and classifying it based on the need of research."
   ]
  },
  {
   "cell_type": "code",
   "execution_count": 2,
   "metadata": {
    "execution": {
     "iopub.execute_input": "2023-12-12T04:39:10.551663Z",
     "iopub.status.busy": "2023-12-12T04:39:10.550056Z",
     "iopub.status.idle": "2023-12-12T04:39:22.147369Z",
     "shell.execute_reply": "2023-12-12T04:39:22.146272Z",
     "shell.execute_reply.started": "2023-12-12T04:39:10.551585Z"
    }
   },
   "outputs": [],
   "source": [
    "import pandas as pd\n",
    "from textblob import TextBlob\n",
    "from nltk.tokenize.toktok import ToktokTokenizer\n",
    "import re\n",
    "tokenizer=ToktokTokenizer()\n",
    "import spacy\n",
    "nlp=spacy.load('en_core_web_sm',disable=['ner'])"
   ]
  },
  {
   "cell_type": "code",
   "execution_count": 3,
   "metadata": {
    "execution": {
     "iopub.execute_input": "2023-12-12T04:39:22.150852Z",
     "iopub.status.busy": "2023-12-12T04:39:22.149106Z",
     "iopub.status.idle": "2023-12-12T04:39:22.231091Z",
     "shell.execute_reply": "2023-12-12T04:39:22.229805Z",
     "shell.execute_reply.started": "2023-12-12T04:39:22.150795Z"
    }
   },
   "outputs": [
    {
     "data": {
      "text/plain": [
       "Sentiment(polarity=0.9099999999999999, subjectivity=0.7800000000000001)"
      ]
     },
     "execution_count": 3,
     "metadata": {},
     "output_type": "execute_result"
    }
   ],
   "source": [
    "TextBlob(\"he is a very good boy\").sentiment"
   ]
  },
  {
   "cell_type": "code",
   "execution_count": 4,
   "metadata": {
    "execution": {
     "iopub.execute_input": "2023-12-12T04:39:22.239004Z",
     "iopub.status.busy": "2023-12-12T04:39:22.238298Z",
     "iopub.status.idle": "2023-12-12T04:39:22.248255Z",
     "shell.execute_reply": "2023-12-12T04:39:22.246761Z",
     "shell.execute_reply.started": "2023-12-12T04:39:22.238960Z"
    }
   },
   "outputs": [
    {
     "data": {
      "text/plain": [
       "Sentiment(polarity=-0.35, subjectivity=0.6000000000000001)"
      ]
     },
     "execution_count": 4,
     "metadata": {},
     "output_type": "execute_result"
    }
   ],
   "source": [
    "TextBlob(\"he is not a good boy\").sentiment"
   ]
  },
  {
   "cell_type": "code",
   "execution_count": 5,
   "metadata": {
    "execution": {
     "iopub.execute_input": "2023-12-12T04:39:22.251094Z",
     "iopub.status.busy": "2023-12-12T04:39:22.250655Z",
     "iopub.status.idle": "2023-12-12T04:39:22.264231Z",
     "shell.execute_reply": "2023-12-12T04:39:22.262942Z",
     "shell.execute_reply.started": "2023-12-12T04:39:22.251059Z"
    }
   },
   "outputs": [
    {
     "data": {
      "text/plain": [
       "Sentiment(polarity=-0.4, subjectivity=0.6)"
      ]
     },
     "execution_count": 5,
     "metadata": {},
     "output_type": "execute_result"
    }
   ],
   "source": [
    "TextBlob(\"Everybody say this man is poor\").sentiment"
   ]
  },
  {
   "cell_type": "markdown",
   "metadata": {},
   "source": [
    " Polarity and Subjectivity:\n",
    "- Polarity identifies if the sentence is a positive sentence or negative sentence and it lies between [-1,1]-1=> Negative; 1=> positive\n",
    "\n",
    "- Subjectivity refer to personal opinion, emotion or judgement and it lies between(0,1)0=> personal opinion ; 1=> public opinion"
   ]
  },
  {
   "cell_type": "code",
   "execution_count": 6,
   "metadata": {
    "execution": {
     "iopub.execute_input": "2023-12-12T04:39:22.266967Z",
     "iopub.status.busy": "2023-12-12T04:39:22.265985Z",
     "iopub.status.idle": "2023-12-12T04:39:23.602868Z",
     "shell.execute_reply": "2023-12-12T04:39:23.601051Z",
     "shell.execute_reply.started": "2023-12-12T04:39:22.266925Z"
    }
   },
   "outputs": [
    {
     "data": {
      "text/html": [
       "<div>\n",
       "<style scoped>\n",
       "    .dataframe tbody tr th:only-of-type {\n",
       "        vertical-align: middle;\n",
       "    }\n",
       "\n",
       "    .dataframe tbody tr th {\n",
       "        vertical-align: top;\n",
       "    }\n",
       "\n",
       "    .dataframe thead th {\n",
       "        text-align: right;\n",
       "    }\n",
       "</style>\n",
       "<table border=\"1\" class=\"dataframe\">\n",
       "  <thead>\n",
       "    <tr style=\"text-align: right;\">\n",
       "      <th></th>\n",
       "      <th>text</th>\n",
       "      <th>label</th>\n",
       "    </tr>\n",
       "  </thead>\n",
       "  <tbody>\n",
       "    <tr>\n",
       "      <th>0</th>\n",
       "      <td>I grew up (b. 1965) watching and loving the Th...</td>\n",
       "      <td>0</td>\n",
       "    </tr>\n",
       "    <tr>\n",
       "      <th>1</th>\n",
       "      <td>When I put this movie in my DVD player, and sa...</td>\n",
       "      <td>0</td>\n",
       "    </tr>\n",
       "    <tr>\n",
       "      <th>2</th>\n",
       "      <td>Why do people who do not know what a particula...</td>\n",
       "      <td>0</td>\n",
       "    </tr>\n",
       "    <tr>\n",
       "      <th>3</th>\n",
       "      <td>Even though I have great interest in Biblical ...</td>\n",
       "      <td>0</td>\n",
       "    </tr>\n",
       "    <tr>\n",
       "      <th>4</th>\n",
       "      <td>Im a die hard Dads Army fan and nothing will e...</td>\n",
       "      <td>1</td>\n",
       "    </tr>\n",
       "  </tbody>\n",
       "</table>\n",
       "</div>"
      ],
      "text/plain": [
       "                                                text  label\n",
       "0  I grew up (b. 1965) watching and loving the Th...      0\n",
       "1  When I put this movie in my DVD player, and sa...      0\n",
       "2  Why do people who do not know what a particula...      0\n",
       "3  Even though I have great interest in Biblical ...      0\n",
       "4  Im a die hard Dads Army fan and nothing will e...      1"
      ]
     },
     "execution_count": 6,
     "metadata": {},
     "output_type": "execute_result"
    }
   ],
   "source": [
    "### Data Loading\n",
    "train= pd.read_csv(\"/kaggle/input/imdb-dataset-sentiment-analysis-in-csv-format/Train.csv\")\n",
    "train.head()"
   ]
  },
  {
   "cell_type": "code",
   "execution_count": 7,
   "metadata": {
    "execution": {
     "iopub.execute_input": "2023-12-12T04:39:23.606220Z",
     "iopub.status.busy": "2023-12-12T04:39:23.604924Z",
     "iopub.status.idle": "2023-12-12T04:39:23.615066Z",
     "shell.execute_reply": "2023-12-12T04:39:23.613683Z",
     "shell.execute_reply.started": "2023-12-12T04:39:23.606162Z"
    }
   },
   "outputs": [
    {
     "data": {
      "text/plain": [
       "(40000, 2)"
      ]
     },
     "execution_count": 7,
     "metadata": {},
     "output_type": "execute_result"
    }
   ],
   "source": [
    "train.shape"
   ]
  },
  {
   "cell_type": "code",
   "execution_count": 8,
   "metadata": {
    "execution": {
     "iopub.execute_input": "2023-12-12T04:39:23.617456Z",
     "iopub.status.busy": "2023-12-12T04:39:23.616955Z",
     "iopub.status.idle": "2023-12-12T04:39:23.643868Z",
     "shell.execute_reply": "2023-12-12T04:39:23.642674Z",
     "shell.execute_reply.started": "2023-12-12T04:39:23.617409Z"
    }
   },
   "outputs": [],
   "source": [
    "label_0=train[train['label']==0].sample(n=5000)\n",
    "label_1=train[train['label']==1].sample(n=5000)\n"
   ]
  },
  {
   "cell_type": "code",
   "execution_count": 9,
   "metadata": {
    "execution": {
     "iopub.execute_input": "2023-12-12T04:39:23.650075Z",
     "iopub.status.busy": "2023-12-12T04:39:23.648962Z",
     "iopub.status.idle": "2023-12-12T04:39:23.662086Z",
     "shell.execute_reply": "2023-12-12T04:39:23.660718Z",
     "shell.execute_reply.started": "2023-12-12T04:39:23.650026Z"
    }
   },
   "outputs": [],
   "source": [
    "train=pd.concat([label_1,label_0])\n",
    "from sklearn.utils import shuffle\n",
    "train=shuffle(train)"
   ]
  },
  {
   "cell_type": "code",
   "execution_count": 10,
   "metadata": {
    "execution": {
     "iopub.execute_input": "2023-12-12T04:39:23.670558Z",
     "iopub.status.busy": "2023-12-12T04:39:23.670076Z",
     "iopub.status.idle": "2023-12-12T04:39:23.687139Z",
     "shell.execute_reply": "2023-12-12T04:39:23.685382Z",
     "shell.execute_reply.started": "2023-12-12T04:39:23.670514Z"
    }
   },
   "outputs": [
    {
     "data": {
      "text/html": [
       "<div>\n",
       "<style scoped>\n",
       "    .dataframe tbody tr th:only-of-type {\n",
       "        vertical-align: middle;\n",
       "    }\n",
       "\n",
       "    .dataframe tbody tr th {\n",
       "        vertical-align: top;\n",
       "    }\n",
       "\n",
       "    .dataframe thead th {\n",
       "        text-align: right;\n",
       "    }\n",
       "</style>\n",
       "<table border=\"1\" class=\"dataframe\">\n",
       "  <thead>\n",
       "    <tr style=\"text-align: right;\">\n",
       "      <th></th>\n",
       "      <th>text</th>\n",
       "      <th>label</th>\n",
       "    </tr>\n",
       "  </thead>\n",
       "  <tbody>\n",
       "    <tr>\n",
       "      <th>19930</th>\n",
       "      <td>After seeing the movie last night I was left w...</td>\n",
       "      <td>1</td>\n",
       "    </tr>\n",
       "    <tr>\n",
       "      <th>32631</th>\n",
       "      <td>This movie shows a row of sketches, which part...</td>\n",
       "      <td>0</td>\n",
       "    </tr>\n",
       "    <tr>\n",
       "      <th>17165</th>\n",
       "      <td>John Wayne is one of the few players in film h...</td>\n",
       "      <td>1</td>\n",
       "    </tr>\n",
       "    <tr>\n",
       "      <th>29585</th>\n",
       "      <td>They screwed up this story! In the end Nell is...</td>\n",
       "      <td>0</td>\n",
       "    </tr>\n",
       "    <tr>\n",
       "      <th>10321</th>\n",
       "      <td>I've seen this movie today for the first time ...</td>\n",
       "      <td>0</td>\n",
       "    </tr>\n",
       "    <tr>\n",
       "      <th>...</th>\n",
       "      <td>...</td>\n",
       "      <td>...</td>\n",
       "    </tr>\n",
       "    <tr>\n",
       "      <th>11813</th>\n",
       "      <td>This film without doubt is one of the worst I ...</td>\n",
       "      <td>0</td>\n",
       "    </tr>\n",
       "    <tr>\n",
       "      <th>6339</th>\n",
       "      <td>A couple of cowpokes help a group of Mormons c...</td>\n",
       "      <td>1</td>\n",
       "    </tr>\n",
       "    <tr>\n",
       "      <th>16324</th>\n",
       "      <td>Manhattan apartment dwellers have to put up wi...</td>\n",
       "      <td>1</td>\n",
       "    </tr>\n",
       "    <tr>\n",
       "      <th>7664</th>\n",
       "      <td>Mockney comes to Brighton; despite a poor rece...</td>\n",
       "      <td>0</td>\n",
       "    </tr>\n",
       "    <tr>\n",
       "      <th>34595</th>\n",
       "      <td>This is the most messed up entry on IMDb that ...</td>\n",
       "      <td>0</td>\n",
       "    </tr>\n",
       "  </tbody>\n",
       "</table>\n",
       "<p>10000 rows × 2 columns</p>\n",
       "</div>"
      ],
      "text/plain": [
       "                                                    text  label\n",
       "19930  After seeing the movie last night I was left w...      1\n",
       "32631  This movie shows a row of sketches, which part...      0\n",
       "17165  John Wayne is one of the few players in film h...      1\n",
       "29585  They screwed up this story! In the end Nell is...      0\n",
       "10321  I've seen this movie today for the first time ...      0\n",
       "...                                                  ...    ...\n",
       "11813  This film without doubt is one of the worst I ...      0\n",
       "6339   A couple of cowpokes help a group of Mormons c...      1\n",
       "16324  Manhattan apartment dwellers have to put up wi...      1\n",
       "7664   Mockney comes to Brighton; despite a poor rece...      0\n",
       "34595  This is the most messed up entry on IMDb that ...      0\n",
       "\n",
       "[10000 rows x 2 columns]"
      ]
     },
     "execution_count": 10,
     "metadata": {},
     "output_type": "execute_result"
    }
   ],
   "source": [
    "train\n"
   ]
  },
  {
   "cell_type": "markdown",
   "metadata": {},
   "source": [
    "### Data Preprocessing"
   ]
  },
  {
   "cell_type": "code",
   "execution_count": 11,
   "metadata": {
    "execution": {
     "iopub.execute_input": "2023-12-12T04:39:23.689617Z",
     "iopub.status.busy": "2023-12-12T04:39:23.689110Z",
     "iopub.status.idle": "2023-12-12T04:39:23.705068Z",
     "shell.execute_reply": "2023-12-12T04:39:23.704008Z",
     "shell.execute_reply.started": "2023-12-12T04:39:23.689558Z"
    }
   },
   "outputs": [
    {
     "data": {
      "text/plain": [
       "text     0\n",
       "label    0\n",
       "dtype: int64"
      ]
     },
     "execution_count": 11,
     "metadata": {},
     "output_type": "execute_result"
    }
   ],
   "source": [
    "train.isnull().sum()"
   ]
  },
  {
   "cell_type": "code",
   "execution_count": 12,
   "metadata": {
    "execution": {
     "iopub.execute_input": "2023-12-12T04:39:23.707207Z",
     "iopub.status.busy": "2023-12-12T04:39:23.706672Z",
     "iopub.status.idle": "2023-12-12T04:39:23.906080Z",
     "shell.execute_reply": "2023-12-12T04:39:23.904372Z",
     "shell.execute_reply.started": "2023-12-12T04:39:23.707163Z"
    }
   },
   "outputs": [],
   "source": [
    "import numpy as np\n",
    "train.replace(r'^\\s*$',np.nan,regex=True,inplace=True)\n",
    "train.dropna(axis=0,how='any',inplace=True)"
   ]
  },
  {
   "cell_type": "markdown",
   "metadata": {},
   "source": [
    "These two lines of code first replace empty strings with NaN values and then remove rows containing any NaN values in the DataFrame train\n",
    "\n",
    "train.replace(r'^\\s*$', np.nan, regex=True, inplace=True): This line uses the replace method in pandas to replace empty strings (^\\s*$ using regex) with NaN values in the DataFrame train. The regex=True argument indicates that the pattern provided is a regular expression. inplace=True modifies the DataFrame train in place without creating a new object.\n",
    "\n",
    "train.dropna(axis=0, how='any', inplace=True): This line uses the dropna method to remove rows with any NaN values along the rows (axis=0) in the DataFrame train. The parameter how='any' specifies that a row will be dropped if it contains any NaN values. inplace=True modifies the DataFrame train in place without creating a new object.\n"
   ]
  },
  {
   "cell_type": "code",
   "execution_count": 13,
   "metadata": {
    "execution": {
     "iopub.execute_input": "2023-12-12T04:39:23.908281Z",
     "iopub.status.busy": "2023-12-12T04:39:23.907855Z",
     "iopub.status.idle": "2023-12-12T04:39:24.845173Z",
     "shell.execute_reply": "2023-12-12T04:39:24.843712Z",
     "shell.execute_reply.started": "2023-12-12T04:39:23.908246Z"
    }
   },
   "outputs": [
    {
     "name": "stdout",
     "output_type": "stream",
     "text": [
      "escape seq removed\n"
     ]
    }
   ],
   "source": [
    "train.replace(to_replace=[r\"\\\\t|\\\\n|\\\\r\",\"\\t|\\n|r\"],value=[\"\",\"\"],regex=True,inplace=True)\n",
    "print('escape seq removed')"
   ]
  },
  {
   "cell_type": "code",
   "execution_count": 14,
   "metadata": {
    "execution": {
     "iopub.execute_input": "2023-12-12T04:39:24.848021Z",
     "iopub.status.busy": "2023-12-12T04:39:24.847152Z",
     "iopub.status.idle": "2023-12-12T04:39:25.042071Z",
     "shell.execute_reply": "2023-12-12T04:39:25.040081Z",
     "shell.execute_reply.started": "2023-12-12T04:39:24.847968Z"
    }
   },
   "outputs": [],
   "source": [
    "import numpy as np\n",
    "train.replace(r'^\\s*$',np.nan,regex=True,inplace=True)\n",
    "train.dropna(axis=0,how='any',inplace=True)"
   ]
  },
  {
   "cell_type": "code",
   "execution_count": 15,
   "metadata": {
    "execution": {
     "iopub.execute_input": "2023-12-12T04:39:25.044301Z",
     "iopub.status.busy": "2023-12-12T04:39:25.043843Z",
     "iopub.status.idle": "2023-12-12T04:39:25.066712Z",
     "shell.execute_reply": "2023-12-12T04:39:25.064359Z",
     "shell.execute_reply.started": "2023-12-12T04:39:25.044262Z"
    }
   },
   "outputs": [
    {
     "data": {
      "text/html": [
       "<div>\n",
       "<style scoped>\n",
       "    .dataframe tbody tr th:only-of-type {\n",
       "        vertical-align: middle;\n",
       "    }\n",
       "\n",
       "    .dataframe tbody tr th {\n",
       "        vertical-align: top;\n",
       "    }\n",
       "\n",
       "    .dataframe thead th {\n",
       "        text-align: right;\n",
       "    }\n",
       "</style>\n",
       "<table border=\"1\" class=\"dataframe\">\n",
       "  <thead>\n",
       "    <tr style=\"text-align: right;\">\n",
       "      <th></th>\n",
       "      <th>text</th>\n",
       "      <th>label</th>\n",
       "    </tr>\n",
       "  </thead>\n",
       "  <tbody>\n",
       "    <tr>\n",
       "      <th>19930</th>\n",
       "      <td>Afte seeing the movie last night I was left wi...</td>\n",
       "      <td>1</td>\n",
       "    </tr>\n",
       "    <tr>\n",
       "      <th>32631</th>\n",
       "      <td>This movie shows a ow of sketches, which patly...</td>\n",
       "      <td>0</td>\n",
       "    </tr>\n",
       "    <tr>\n",
       "      <th>17165</th>\n",
       "      <td>John Wayne is one of the few playes in film hi...</td>\n",
       "      <td>1</td>\n",
       "    </tr>\n",
       "    <tr>\n",
       "      <th>29585</th>\n",
       "      <td>They scewed up this stoy! In the end Nell is a...</td>\n",
       "      <td>0</td>\n",
       "    </tr>\n",
       "    <tr>\n",
       "      <th>10321</th>\n",
       "      <td>I've seen this movie today fo the fist time an...</td>\n",
       "      <td>0</td>\n",
       "    </tr>\n",
       "    <tr>\n",
       "      <th>...</th>\n",
       "      <td>...</td>\n",
       "      <td>...</td>\n",
       "    </tr>\n",
       "    <tr>\n",
       "      <th>11813</th>\n",
       "      <td>This film without doubt is one of the wost I h...</td>\n",
       "      <td>0</td>\n",
       "    </tr>\n",
       "    <tr>\n",
       "      <th>6339</th>\n",
       "      <td>A couple of cowpokes help a goup of Momons cos...</td>\n",
       "      <td>1</td>\n",
       "    </tr>\n",
       "    <tr>\n",
       "      <th>16324</th>\n",
       "      <td>Manhattan apatment dwelles have to put up with...</td>\n",
       "      <td>1</td>\n",
       "    </tr>\n",
       "    <tr>\n",
       "      <th>7664</th>\n",
       "      <td>Mockney comes to Bighton; despite a poo ecepti...</td>\n",
       "      <td>0</td>\n",
       "    </tr>\n",
       "    <tr>\n",
       "      <th>34595</th>\n",
       "      <td>This is the most messed up enty on IMDb that I...</td>\n",
       "      <td>0</td>\n",
       "    </tr>\n",
       "  </tbody>\n",
       "</table>\n",
       "<p>10000 rows × 2 columns</p>\n",
       "</div>"
      ],
      "text/plain": [
       "                                                    text  label\n",
       "19930  Afte seeing the movie last night I was left wi...      1\n",
       "32631  This movie shows a ow of sketches, which patly...      0\n",
       "17165  John Wayne is one of the few playes in film hi...      1\n",
       "29585  They scewed up this stoy! In the end Nell is a...      0\n",
       "10321  I've seen this movie today fo the fist time an...      0\n",
       "...                                                  ...    ...\n",
       "11813  This film without doubt is one of the wost I h...      0\n",
       "6339   A couple of cowpokes help a goup of Momons cos...      1\n",
       "16324  Manhattan apatment dwelles have to put up with...      1\n",
       "7664   Mockney comes to Bighton; despite a poo ecepti...      0\n",
       "34595  This is the most messed up enty on IMDb that I...      0\n",
       "\n",
       "[10000 rows x 2 columns]"
      ]
     },
     "execution_count": 15,
     "metadata": {},
     "output_type": "execute_result"
    }
   ],
   "source": [
    "train"
   ]
  },
  {
   "cell_type": "code",
   "execution_count": 16,
   "metadata": {
    "execution": {
     "iopub.execute_input": "2023-12-12T04:39:25.070198Z",
     "iopub.status.busy": "2023-12-12T04:39:25.068494Z",
     "iopub.status.idle": "2023-12-12T04:39:25.147766Z",
     "shell.execute_reply": "2023-12-12T04:39:25.145931Z",
     "shell.execute_reply.started": "2023-12-12T04:39:25.070117Z"
    }
   },
   "outputs": [
    {
     "name": "stdout",
     "output_type": "stream",
     "text": [
      "non-ascii data removed\n"
     ]
    }
   ],
   "source": [
    "## Removing the non-ASCII code\n",
    "train['text']=train['text'].str.encode('ascii','ignore').str.decode('ascii')\n",
    "print('non-ascii data removed')"
   ]
  },
  {
   "cell_type": "code",
   "execution_count": 17,
   "metadata": {
    "execution": {
     "iopub.execute_input": "2023-12-12T04:39:25.150906Z",
     "iopub.status.busy": "2023-12-12T04:39:25.150249Z",
     "iopub.status.idle": "2023-12-12T04:39:25.161532Z",
     "shell.execute_reply": "2023-12-12T04:39:25.159954Z",
     "shell.execute_reply.started": "2023-12-12T04:39:25.150853Z"
    }
   },
   "outputs": [
    {
     "data": {
      "text/plain": [
       "'!\"#$%&\\'()*+,-./:;<=>?@[\\\\]^_`{|}~'"
      ]
     },
     "execution_count": 17,
     "metadata": {},
     "output_type": "execute_result"
    }
   ],
   "source": [
    "### Remove Punctuation\n",
    "import string\n",
    "string.punctuation"
   ]
  },
  {
   "cell_type": "code",
   "execution_count": 18,
   "metadata": {
    "execution": {
     "iopub.execute_input": "2023-12-12T04:39:25.165107Z",
     "iopub.status.busy": "2023-12-12T04:39:25.164360Z",
     "iopub.status.idle": "2023-12-12T04:39:25.641023Z",
     "shell.execute_reply": "2023-12-12T04:39:25.639359Z",
     "shell.execute_reply.started": "2023-12-12T04:39:25.165065Z"
    }
   },
   "outputs": [],
   "source": [
    "def remove_punctuations(text):\n",
    "    for punctuation in string.punctuation:\n",
    "        text =text.replace(punctuation,'')\n",
    "    return text\n",
    "train['text']=train['text'].apply(remove_punctuations)"
   ]
  },
  {
   "cell_type": "code",
   "execution_count": 19,
   "metadata": {
    "execution": {
     "iopub.execute_input": "2023-12-12T04:39:25.642978Z",
     "iopub.status.busy": "2023-12-12T04:39:25.642581Z",
     "iopub.status.idle": "2023-12-12T04:39:25.662811Z",
     "shell.execute_reply": "2023-12-12T04:39:25.660689Z",
     "shell.execute_reply.started": "2023-12-12T04:39:25.642946Z"
    }
   },
   "outputs": [
    {
     "data": {
      "text/html": [
       "<div>\n",
       "<style scoped>\n",
       "    .dataframe tbody tr th:only-of-type {\n",
       "        vertical-align: middle;\n",
       "    }\n",
       "\n",
       "    .dataframe tbody tr th {\n",
       "        vertical-align: top;\n",
       "    }\n",
       "\n",
       "    .dataframe thead th {\n",
       "        text-align: right;\n",
       "    }\n",
       "</style>\n",
       "<table border=\"1\" class=\"dataframe\">\n",
       "  <thead>\n",
       "    <tr style=\"text-align: right;\">\n",
       "      <th></th>\n",
       "      <th>text</th>\n",
       "      <th>label</th>\n",
       "    </tr>\n",
       "  </thead>\n",
       "  <tbody>\n",
       "    <tr>\n",
       "      <th>19930</th>\n",
       "      <td>Afte seeing the movie last night I was left wi...</td>\n",
       "      <td>1</td>\n",
       "    </tr>\n",
       "    <tr>\n",
       "      <th>32631</th>\n",
       "      <td>This movie shows a ow of sketches which patly ...</td>\n",
       "      <td>0</td>\n",
       "    </tr>\n",
       "    <tr>\n",
       "      <th>17165</th>\n",
       "      <td>John Wayne is one of the few playes in film hi...</td>\n",
       "      <td>1</td>\n",
       "    </tr>\n",
       "    <tr>\n",
       "      <th>29585</th>\n",
       "      <td>They scewed up this stoy In the end Nell is al...</td>\n",
       "      <td>0</td>\n",
       "    </tr>\n",
       "    <tr>\n",
       "      <th>10321</th>\n",
       "      <td>Ive seen this movie today fo the fist time and...</td>\n",
       "      <td>0</td>\n",
       "    </tr>\n",
       "    <tr>\n",
       "      <th>...</th>\n",
       "      <td>...</td>\n",
       "      <td>...</td>\n",
       "    </tr>\n",
       "    <tr>\n",
       "      <th>11813</th>\n",
       "      <td>This film without doubt is one of the wost I h...</td>\n",
       "      <td>0</td>\n",
       "    </tr>\n",
       "    <tr>\n",
       "      <th>6339</th>\n",
       "      <td>A couple of cowpokes help a goup of Momons cos...</td>\n",
       "      <td>1</td>\n",
       "    </tr>\n",
       "    <tr>\n",
       "      <th>16324</th>\n",
       "      <td>Manhattan apatment dwelles have to put up with...</td>\n",
       "      <td>1</td>\n",
       "    </tr>\n",
       "    <tr>\n",
       "      <th>7664</th>\n",
       "      <td>Mockney comes to Bighton despite a poo eceptio...</td>\n",
       "      <td>0</td>\n",
       "    </tr>\n",
       "    <tr>\n",
       "      <th>34595</th>\n",
       "      <td>This is the most messed up enty on IMDb that I...</td>\n",
       "      <td>0</td>\n",
       "    </tr>\n",
       "  </tbody>\n",
       "</table>\n",
       "<p>10000 rows × 2 columns</p>\n",
       "</div>"
      ],
      "text/plain": [
       "                                                    text  label\n",
       "19930  Afte seeing the movie last night I was left wi...      1\n",
       "32631  This movie shows a ow of sketches which patly ...      0\n",
       "17165  John Wayne is one of the few playes in film hi...      1\n",
       "29585  They scewed up this stoy In the end Nell is al...      0\n",
       "10321  Ive seen this movie today fo the fist time and...      0\n",
       "...                                                  ...    ...\n",
       "11813  This film without doubt is one of the wost I h...      0\n",
       "6339   A couple of cowpokes help a goup of Momons cos...      1\n",
       "16324  Manhattan apatment dwelles have to put up with...      1\n",
       "7664   Mockney comes to Bighton despite a poo eceptio...      0\n",
       "34595  This is the most messed up enty on IMDb that I...      0\n",
       "\n",
       "[10000 rows x 2 columns]"
      ]
     },
     "execution_count": 19,
     "metadata": {},
     "output_type": "execute_result"
    }
   ],
   "source": [
    "train"
   ]
  },
  {
   "cell_type": "code",
   "execution_count": 20,
   "metadata": {
    "execution": {
     "iopub.execute_input": "2023-12-12T04:39:25.665729Z",
     "iopub.status.busy": "2023-12-12T04:39:25.664829Z",
     "iopub.status.idle": "2023-12-12T04:39:25.683424Z",
     "shell.execute_reply": "2023-12-12T04:39:25.682335Z",
     "shell.execute_reply.started": "2023-12-12T04:39:25.665662Z"
    }
   },
   "outputs": [
    {
     "name": "stdout",
     "output_type": "stream",
     "text": [
      "['i', 'me', 'my', 'myself', 'we', 'our', 'ours', 'ourselves', 'you', \"you're\", \"you've\", \"you'll\", \"you'd\", 'your', 'yours', 'yourself', 'yourselves', 'he', 'him', 'his', 'himself', 'she', \"she's\", 'her', 'hers', 'herself', 'it', \"it's\", 'its', 'itself', 'they', 'them', 'their', 'theirs', 'themselves', 'what', 'which', 'who', 'whom', 'this', 'that', \"that'll\", 'these', 'those', 'am', 'is', 'are', 'was', 'were', 'be', 'been', 'being', 'have', 'has', 'had', 'having', 'do', 'does', 'did', 'doing', 'a', 'an', 'the', 'and', 'but', 'if', 'or', 'because', 'as', 'until', 'while', 'of', 'at', 'by', 'for', 'with', 'about', 'against', 'between', 'into', 'through', 'during', 'before', 'after', 'above', 'below', 'to', 'from', 'up', 'down', 'in', 'out', 'on', 'off', 'over', 'under', 'again', 'further', 'then', 'once', 'here', 'there', 'when', 'where', 'why', 'how', 'all', 'any', 'both', 'each', 'few', 'more', 'most', 'other', 'some', 'such', 'no', 'nor', 'not', 'only', 'own', 'same', 'so', 'than', 'too', 'very', 's', 't', 'can', 'will', 'just', 'don', \"don't\", 'should', \"should've\", 'now', 'd', 'll', 'm', 'o', 're', 've', 'y', 'ain', 'aren', \"aren't\", 'couldn', \"couldn't\", 'didn', \"didn't\", 'doesn', \"doesn't\", 'hadn', \"hadn't\", 'hasn', \"hasn't\", 'haven', \"haven't\", 'isn', \"isn't\", 'ma', 'mightn', \"mightn't\", 'mustn', \"mustn't\", 'needn', \"needn't\", 'shan', \"shan't\", 'shouldn', \"shouldn't\", 'wasn', \"wasn't\", 'weren', \"weren't\", 'won', \"won't\", 'wouldn', \"wouldn't\"]\n"
     ]
    }
   ],
   "source": [
    "import nltk\n",
    "from nltk.corpus import stopwords\n",
    "print(stopwords.words('english'))"
   ]
  },
  {
   "cell_type": "code",
   "execution_count": 21,
   "metadata": {
    "execution": {
     "iopub.execute_input": "2023-12-12T04:39:25.685377Z",
     "iopub.status.busy": "2023-12-12T04:39:25.684975Z",
     "iopub.status.idle": "2023-12-12T04:39:25.699584Z",
     "shell.execute_reply": "2023-12-12T04:39:25.697918Z",
     "shell.execute_reply.started": "2023-12-12T04:39:25.685346Z"
    }
   },
   "outputs": [],
   "source": [
    "## Stop words are usecase dependent so we need to check according to our use and make changes\n",
    "stopword_list=nltk.corpus.stopwords.words('english')\n",
    "stopword_list.remove('no')\n",
    "stopword_list.remove('not')"
   ]
  },
  {
   "cell_type": "code",
   "execution_count": 22,
   "metadata": {
    "execution": {
     "iopub.execute_input": "2023-12-12T04:39:25.704237Z",
     "iopub.status.busy": "2023-12-12T04:39:25.702917Z",
     "iopub.status.idle": "2023-12-12T04:39:25.716232Z",
     "shell.execute_reply": "2023-12-12T04:39:25.714874Z",
     "shell.execute_reply.started": "2023-12-12T04:39:25.704143Z"
    }
   },
   "outputs": [],
   "source": [
    "def custom_remove_stopwords(text,is_lower_case=False):\n",
    "    tokens=tokenizer.tokenize(text)\n",
    "    tokens= [token.strip() for token in tokens]\n",
    "    if is_lower_case:\n",
    "        filtered_tokens =[token for token in tokens if token not in stopword_list]\n",
    "    else:\n",
    "        filtered_tokens= [token for token in tokens if token.lower() not in stopword_list]\n",
    "    filtered_text=' '.join(filtered_tokens)\n",
    "    return filtered_text\n"
   ]
  },
  {
   "cell_type": "markdown",
   "metadata": {},
   "source": [
    "- This function takes in a piece of text and an optional boolean parameter (is_lower) to determine whether to consider the text as lowercase when removing stopwords. It tokenizes the text, removes stopwords based on the condition provided, and returns the filtered text as a string."
   ]
  },
  {
   "cell_type": "code",
   "execution_count": 23,
   "metadata": {
    "execution": {
     "iopub.execute_input": "2023-12-12T04:39:25.719050Z",
     "iopub.status.busy": "2023-12-12T04:39:25.718483Z",
     "iopub.status.idle": "2023-12-12T04:39:38.919024Z",
     "shell.execute_reply": "2023-12-12T04:39:38.917573Z",
     "shell.execute_reply.started": "2023-12-12T04:39:25.719012Z"
    }
   },
   "outputs": [],
   "source": [
    "train['text']=train['text'].apply(custom_remove_stopwords)"
   ]
  },
  {
   "cell_type": "code",
   "execution_count": 24,
   "metadata": {
    "execution": {
     "iopub.execute_input": "2023-12-12T04:39:38.922074Z",
     "iopub.status.busy": "2023-12-12T04:39:38.920989Z",
     "iopub.status.idle": "2023-12-12T04:39:38.940709Z",
     "shell.execute_reply": "2023-12-12T04:39:38.938807Z",
     "shell.execute_reply.started": "2023-12-12T04:39:38.922011Z"
    }
   },
   "outputs": [
    {
     "data": {
      "text/html": [
       "<div>\n",
       "<style scoped>\n",
       "    .dataframe tbody tr th:only-of-type {\n",
       "        vertical-align: middle;\n",
       "    }\n",
       "\n",
       "    .dataframe tbody tr th {\n",
       "        vertical-align: top;\n",
       "    }\n",
       "\n",
       "    .dataframe thead th {\n",
       "        text-align: right;\n",
       "    }\n",
       "</style>\n",
       "<table border=\"1\" class=\"dataframe\">\n",
       "  <thead>\n",
       "    <tr style=\"text-align: right;\">\n",
       "      <th></th>\n",
       "      <th>text</th>\n",
       "      <th>label</th>\n",
       "    </tr>\n",
       "  </thead>\n",
       "  <tbody>\n",
       "    <tr>\n",
       "      <th>19930</th>\n",
       "      <td>Afte seeing movie last night left sense hopele...</td>\n",
       "      <td>1</td>\n",
       "    </tr>\n",
       "    <tr>\n",
       "      <th>32631</th>\n",
       "      <td>movie shows ow sketches patly pass ove one ano...</td>\n",
       "      <td>0</td>\n",
       "    </tr>\n",
       "    <tr>\n",
       "      <th>17165</th>\n",
       "      <td>John Wayne one playes film histoy failed fist ...</td>\n",
       "      <td>1</td>\n",
       "    </tr>\n",
       "    <tr>\n",
       "      <th>29585</th>\n",
       "      <td>scewed stoy end Nell heoic taking fo team save...</td>\n",
       "      <td>0</td>\n",
       "    </tr>\n",
       "    <tr>\n",
       "      <th>10321</th>\n",
       "      <td>Ive seen movie today fo fist time neve head be...</td>\n",
       "      <td>0</td>\n",
       "    </tr>\n",
       "    <tr>\n",
       "      <th>...</th>\n",
       "      <td>...</td>\n",
       "      <td>...</td>\n",
       "    </tr>\n",
       "    <tr>\n",
       "      <th>11813</th>\n",
       "      <td>film without doubt one wost seen boing simply ...</td>\n",
       "      <td>0</td>\n",
       "    </tr>\n",
       "    <tr>\n",
       "      <th>6339</th>\n",
       "      <td>couple cowpokes help goup Momons coss ough cou...</td>\n",
       "      <td>1</td>\n",
       "    </tr>\n",
       "    <tr>\n",
       "      <th>16324</th>\n",
       "      <td>Manhattan apatment dwelles put kinds inconveni...</td>\n",
       "      <td>1</td>\n",
       "    </tr>\n",
       "    <tr>\n",
       "      <th>7664</th>\n",
       "      <td>Mockney comes Bighton despite poo eception Bit...</td>\n",
       "      <td>0</td>\n",
       "    </tr>\n",
       "    <tr>\n",
       "      <th>34595</th>\n",
       "      <td>messed enty IMDb Ive yet stumble acoss pevious...</td>\n",
       "      <td>0</td>\n",
       "    </tr>\n",
       "  </tbody>\n",
       "</table>\n",
       "<p>10000 rows × 2 columns</p>\n",
       "</div>"
      ],
      "text/plain": [
       "                                                    text  label\n",
       "19930  Afte seeing movie last night left sense hopele...      1\n",
       "32631  movie shows ow sketches patly pass ove one ano...      0\n",
       "17165  John Wayne one playes film histoy failed fist ...      1\n",
       "29585  scewed stoy end Nell heoic taking fo team save...      0\n",
       "10321  Ive seen movie today fo fist time neve head be...      0\n",
       "...                                                  ...    ...\n",
       "11813  film without doubt one wost seen boing simply ...      0\n",
       "6339   couple cowpokes help goup Momons coss ough cou...      1\n",
       "16324  Manhattan apatment dwelles put kinds inconveni...      1\n",
       "7664   Mockney comes Bighton despite poo eception Bit...      0\n",
       "34595  messed enty IMDb Ive yet stumble acoss pevious...      0\n",
       "\n",
       "[10000 rows x 2 columns]"
      ]
     },
     "execution_count": 24,
     "metadata": {},
     "output_type": "execute_result"
    }
   ],
   "source": [
    "train"
   ]
  },
  {
   "cell_type": "code",
   "execution_count": 25,
   "metadata": {
    "execution": {
     "iopub.execute_input": "2023-12-12T04:39:38.943462Z",
     "iopub.status.busy": "2023-12-12T04:39:38.942526Z",
     "iopub.status.idle": "2023-12-12T04:39:38.953003Z",
     "shell.execute_reply": "2023-12-12T04:39:38.951523Z",
     "shell.execute_reply.started": "2023-12-12T04:39:38.943419Z"
    }
   },
   "outputs": [],
   "source": [
    "import re\n",
    "\n",
    "def remove_special_characters(text):\n",
    "    text = re.sub('[^a-zA-Z0-9\\s]', '', text)\n",
    "    return text\n"
   ]
  },
  {
   "cell_type": "markdown",
   "metadata": {},
   "source": [
    "- This function utilizes the re.sub() method from Python's re module to substitute any character that is not a letter (uppercase or lowercase), digit, or whitespace with an empty string. Afterward, it returns the text with special characters removed."
   ]
  },
  {
   "cell_type": "code",
   "execution_count": 26,
   "metadata": {
    "execution": {
     "iopub.execute_input": "2023-12-12T04:39:38.956045Z",
     "iopub.status.busy": "2023-12-12T04:39:38.955462Z",
     "iopub.status.idle": "2023-12-12T04:39:39.197446Z",
     "shell.execute_reply": "2023-12-12T04:39:39.195893Z",
     "shell.execute_reply.started": "2023-12-12T04:39:38.955996Z"
    }
   },
   "outputs": [],
   "source": [
    "train['text']=train['text'].apply(remove_special_characters)"
   ]
  },
  {
   "cell_type": "code",
   "execution_count": 27,
   "metadata": {
    "execution": {
     "iopub.execute_input": "2023-12-12T04:39:39.199398Z",
     "iopub.status.busy": "2023-12-12T04:39:39.199024Z",
     "iopub.status.idle": "2023-12-12T04:39:39.206296Z",
     "shell.execute_reply": "2023-12-12T04:39:39.204838Z",
     "shell.execute_reply.started": "2023-12-12T04:39:39.199368Z"
    }
   },
   "outputs": [],
   "source": [
    "def removal_html(text):\n",
    "    import re\n",
    "    html_pattern=re.compile('<.*?>')\n",
    "    return html_pattern.sub(r'',text)"
   ]
  },
  {
   "cell_type": "markdown",
   "metadata": {},
   "source": [
    "- The function removal_html takes a text parameter as input.\n",
    "- It imports the re module for working with regular expressions.\n",
    "- It creates a regular expression pattern html_pattern using re.compile('<.*?>'). This pattern matches any substring that starts with < and ends with > (i.e., HTML tags) and tries to remove them from the text.\n",
    "- The html_pattern.sub(r'', text) method substitutes all matches of the HTML pattern in the text with an empty string (r''), effectively removing HTML tags from the text.\n",
    "- This function can be useful when dealing with text data containing HTML tags, as it helps to clean the text by removing those tags, leaving behind the text content."
   ]
  },
  {
   "cell_type": "code",
   "execution_count": 28,
   "metadata": {
    "execution": {
     "iopub.execute_input": "2023-12-12T04:39:39.216070Z",
     "iopub.status.busy": "2023-12-12T04:39:39.215607Z",
     "iopub.status.idle": "2023-12-12T04:39:39.255566Z",
     "shell.execute_reply": "2023-12-12T04:39:39.254069Z",
     "shell.execute_reply.started": "2023-12-12T04:39:39.216036Z"
    }
   },
   "outputs": [],
   "source": [
    "train['text']=train['text'].apply(removal_html)"
   ]
  },
  {
   "cell_type": "code",
   "execution_count": 29,
   "metadata": {
    "execution": {
     "iopub.execute_input": "2023-12-12T04:39:39.257964Z",
     "iopub.status.busy": "2023-12-12T04:39:39.257503Z",
     "iopub.status.idle": "2023-12-12T04:39:39.264082Z",
     "shell.execute_reply": "2023-12-12T04:39:39.262754Z",
     "shell.execute_reply.started": "2023-12-12T04:39:39.257929Z"
    }
   },
   "outputs": [],
   "source": [
    "def remove_URL(text):\n",
    "    url=re.compile(r'https?://\\S+|www\\.\\S+')\n",
    "    return url.sub(r' ',text)"
   ]
  },
  {
   "cell_type": "code",
   "execution_count": 30,
   "metadata": {
    "execution": {
     "iopub.execute_input": "2023-12-12T04:39:39.267085Z",
     "iopub.status.busy": "2023-12-12T04:39:39.266274Z",
     "iopub.status.idle": "2023-12-12T04:39:39.549801Z",
     "shell.execute_reply": "2023-12-12T04:39:39.548320Z",
     "shell.execute_reply.started": "2023-12-12T04:39:39.267047Z"
    }
   },
   "outputs": [],
   "source": [
    "train['text']=train['text'].apply(remove_URL)"
   ]
  },
  {
   "cell_type": "code",
   "execution_count": 31,
   "metadata": {
    "execution": {
     "iopub.execute_input": "2023-12-12T04:39:39.552768Z",
     "iopub.status.busy": "2023-12-12T04:39:39.552241Z",
     "iopub.status.idle": "2023-12-12T04:39:39.560796Z",
     "shell.execute_reply": "2023-12-12T04:39:39.558802Z",
     "shell.execute_reply.started": "2023-12-12T04:39:39.552729Z"
    }
   },
   "outputs": [],
   "source": [
    "def remove_numbers(text):\n",
    "    text=''.join([i for i in text if not i.isdigit()])\n",
    "    return text"
   ]
  },
  {
   "cell_type": "markdown",
   "metadata": {},
   "source": [
    "- The function remove_numbers takes a text parameter as input.\n",
    "- It uses a list comprehension [i for i in text if not i.isdigit()] to iterate through each character i in the text. For each character, it checks if it's not a digit using the isdigit() method (if not i.isdigit()).\n",
    "- Characters that are not digits are retained in the list comprehension.\n",
    "- The resulting list of non-digit characters is joined back together using ''.join() to form a string, effectively removing all numerical digits.\n",
    "- The modified text with the removed numbers is returned as the output.\n",
    "- This function can be used when there's a need to remove numerical values from a piece of text, leaving behind only the non-numeric content."
   ]
  },
  {
   "cell_type": "code",
   "execution_count": 32,
   "metadata": {
    "execution": {
     "iopub.execute_input": "2023-12-12T04:39:39.563286Z",
     "iopub.status.busy": "2023-12-12T04:39:39.562651Z",
     "iopub.status.idle": "2023-12-12T04:39:40.842509Z",
     "shell.execute_reply": "2023-12-12T04:39:40.841075Z",
     "shell.execute_reply.started": "2023-12-12T04:39:39.563245Z"
    }
   },
   "outputs": [],
   "source": [
    "train['text']=train['text'].apply(remove_numbers)"
   ]
  },
  {
   "cell_type": "code",
   "execution_count": 33,
   "metadata": {
    "execution": {
     "iopub.execute_input": "2023-12-12T04:39:40.844542Z",
     "iopub.status.busy": "2023-12-12T04:39:40.844133Z",
     "iopub.status.idle": "2023-12-12T04:39:40.854707Z",
     "shell.execute_reply": "2023-12-12T04:39:40.852838Z",
     "shell.execute_reply.started": "2023-12-12T04:39:40.844501Z"
    }
   },
   "outputs": [],
   "source": [
    "import re\n",
    "\n",
    "def cleanse(word):\n",
    "    # Regular expression pattern to match alphanumeric characters and digits\n",
    "    rx = re.compile(r'\\D*\\d')\n",
    "    \n",
    "    # If the word matches the pattern (contains alphanumeric characters or digits), return an empty string\n",
    "    if rx.match(word):\n",
    "        return ''\n",
    "    \n",
    "    # Otherwise, return the word as is\n",
    "    return word\n",
    "\n",
    "def remove_alphanumeric(strings):\n",
    "    # Using list comprehension to process each word in the input text\n",
    "    nstrings = [\" \".join(filter(None, (\n",
    "        cleanse(word) for word in string.split()))) \n",
    "                for string in strings.split()]\n",
    "    \n",
    "    # Joining the processed words back together to form a string\n",
    "    str1 = ' '.join(nstrings)\n",
    "    return str1\n"
   ]
  },
  {
   "cell_type": "markdown",
   "metadata": {},
   "source": [
    "- cleanse(word): This function uses a regular expression pattern \\D*\\d to match any word that contains digits or alphanumeric characters. If the word matches this pattern, it returns an empty string, effectively removing the alphanumeric content.\n",
    "\n",
    "- remove_alphanumeric(strings): This function applies the cleanse function to each word in the input text (strings). It splits the text into words, applies cleanse to each word using a generator expression within filter, and joins the non-empty words back together into a string.\n",
    "\n",
    "Overall, the remove_alphanumeric function utilizes the cleanse function to remove words containing alphanumeric characters or digits from the input text, resulting in a string containing only non-alphanumeric content."
   ]
  },
  {
   "cell_type": "code",
   "execution_count": 34,
   "metadata": {
    "execution": {
     "iopub.execute_input": "2023-12-12T04:39:40.857159Z",
     "iopub.status.busy": "2023-12-12T04:39:40.856745Z",
     "iopub.status.idle": "2023-12-12T04:39:45.543014Z",
     "shell.execute_reply": "2023-12-12T04:39:45.541622Z",
     "shell.execute_reply.started": "2023-12-12T04:39:40.857126Z"
    }
   },
   "outputs": [],
   "source": [
    "train['text']=train['text'].apply(remove_alphanumeric)"
   ]
  },
  {
   "cell_type": "code",
   "execution_count": 35,
   "metadata": {
    "execution": {
     "iopub.execute_input": "2023-12-12T04:39:45.545479Z",
     "iopub.status.busy": "2023-12-12T04:39:45.545019Z",
     "iopub.status.idle": "2023-12-12T04:39:45.563884Z",
     "shell.execute_reply": "2023-12-12T04:39:45.562413Z",
     "shell.execute_reply.started": "2023-12-12T04:39:45.545441Z"
    }
   },
   "outputs": [
    {
     "data": {
      "text/html": [
       "<div>\n",
       "<style scoped>\n",
       "    .dataframe tbody tr th:only-of-type {\n",
       "        vertical-align: middle;\n",
       "    }\n",
       "\n",
       "    .dataframe tbody tr th {\n",
       "        vertical-align: top;\n",
       "    }\n",
       "\n",
       "    .dataframe thead th {\n",
       "        text-align: right;\n",
       "    }\n",
       "</style>\n",
       "<table border=\"1\" class=\"dataframe\">\n",
       "  <thead>\n",
       "    <tr style=\"text-align: right;\">\n",
       "      <th></th>\n",
       "      <th>text</th>\n",
       "      <th>label</th>\n",
       "    </tr>\n",
       "  </thead>\n",
       "  <tbody>\n",
       "    <tr>\n",
       "      <th>19930</th>\n",
       "      <td>Afte seeing movie last night left sense hopele...</td>\n",
       "      <td>1</td>\n",
       "    </tr>\n",
       "    <tr>\n",
       "      <th>32631</th>\n",
       "      <td>movie shows ow sketches patly pass ove one ano...</td>\n",
       "      <td>0</td>\n",
       "    </tr>\n",
       "    <tr>\n",
       "      <th>17165</th>\n",
       "      <td>John Wayne one playes film histoy failed fist ...</td>\n",
       "      <td>1</td>\n",
       "    </tr>\n",
       "    <tr>\n",
       "      <th>29585</th>\n",
       "      <td>scewed stoy end Nell heoic taking fo team save...</td>\n",
       "      <td>0</td>\n",
       "    </tr>\n",
       "    <tr>\n",
       "      <th>10321</th>\n",
       "      <td>Ive seen movie today fo fist time neve head be...</td>\n",
       "      <td>0</td>\n",
       "    </tr>\n",
       "    <tr>\n",
       "      <th>...</th>\n",
       "      <td>...</td>\n",
       "      <td>...</td>\n",
       "    </tr>\n",
       "    <tr>\n",
       "      <th>11813</th>\n",
       "      <td>film without doubt one wost seen boing simply ...</td>\n",
       "      <td>0</td>\n",
       "    </tr>\n",
       "    <tr>\n",
       "      <th>6339</th>\n",
       "      <td>couple cowpokes help goup Momons coss ough cou...</td>\n",
       "      <td>1</td>\n",
       "    </tr>\n",
       "    <tr>\n",
       "      <th>16324</th>\n",
       "      <td>Manhattan apatment dwelles put kinds inconveni...</td>\n",
       "      <td>1</td>\n",
       "    </tr>\n",
       "    <tr>\n",
       "      <th>7664</th>\n",
       "      <td>Mockney comes Bighton despite poo eception Bit...</td>\n",
       "      <td>0</td>\n",
       "    </tr>\n",
       "    <tr>\n",
       "      <th>34595</th>\n",
       "      <td>messed enty IMDb Ive yet stumble acoss pevious...</td>\n",
       "      <td>0</td>\n",
       "    </tr>\n",
       "  </tbody>\n",
       "</table>\n",
       "<p>10000 rows × 2 columns</p>\n",
       "</div>"
      ],
      "text/plain": [
       "                                                    text  label\n",
       "19930  Afte seeing movie last night left sense hopele...      1\n",
       "32631  movie shows ow sketches patly pass ove one ano...      0\n",
       "17165  John Wayne one playes film histoy failed fist ...      1\n",
       "29585  scewed stoy end Nell heoic taking fo team save...      0\n",
       "10321  Ive seen movie today fo fist time neve head be...      0\n",
       "...                                                  ...    ...\n",
       "11813  film without doubt one wost seen boing simply ...      0\n",
       "6339   couple cowpokes help goup Momons coss ough cou...      1\n",
       "16324  Manhattan apatment dwelles put kinds inconveni...      1\n",
       "7664   Mockney comes Bighton despite poo eception Bit...      0\n",
       "34595  messed enty IMDb Ive yet stumble acoss pevious...      0\n",
       "\n",
       "[10000 rows x 2 columns]"
      ]
     },
     "execution_count": 35,
     "metadata": {},
     "output_type": "execute_result"
    }
   ],
   "source": [
    "train"
   ]
  },
  {
   "cell_type": "code",
   "execution_count": 36,
   "metadata": {
    "execution": {
     "iopub.execute_input": "2023-12-12T04:39:45.565997Z",
     "iopub.status.busy": "2023-12-12T04:39:45.565558Z",
     "iopub.status.idle": "2023-12-12T04:39:45.575261Z",
     "shell.execute_reply": "2023-12-12T04:39:45.573681Z",
     "shell.execute_reply.started": "2023-12-12T04:39:45.565964Z"
    }
   },
   "outputs": [],
   "source": [
    "def lemmatize_text(text):\n",
    "    text=nlp(text)\n",
    "    text= ' '.join([word.lemma_ if word.lemma_ != '-PRON-' else word.texr for word in text])\n",
    "    return text"
   ]
  },
  {
   "cell_type": "code",
   "execution_count": 37,
   "metadata": {
    "execution": {
     "iopub.execute_input": "2023-12-12T04:39:45.577978Z",
     "iopub.status.busy": "2023-12-12T04:39:45.577368Z",
     "iopub.status.idle": "2023-12-12T04:43:46.167954Z",
     "shell.execute_reply": "2023-12-12T04:43:46.166672Z",
     "shell.execute_reply.started": "2023-12-12T04:39:45.577940Z"
    }
   },
   "outputs": [],
   "source": [
    "train['text']=train['text'].apply(lemmatize_text)"
   ]
  },
  {
   "cell_type": "code",
   "execution_count": 38,
   "metadata": {
    "execution": {
     "iopub.execute_input": "2023-12-12T04:43:46.171306Z",
     "iopub.status.busy": "2023-12-12T04:43:46.170784Z",
     "iopub.status.idle": "2023-12-12T04:43:58.725890Z",
     "shell.execute_reply": "2023-12-12T04:43:58.724675Z",
     "shell.execute_reply.started": "2023-12-12T04:43:46.171261Z"
    }
   },
   "outputs": [],
   "source": [
    "train['sentiment']=train['text'].apply(lambda tweet: TextBlob(tweet).sentiment)"
   ]
  },
  {
   "cell_type": "code",
   "execution_count": 39,
   "metadata": {
    "execution": {
     "iopub.execute_input": "2023-12-12T04:43:58.727799Z",
     "iopub.status.busy": "2023-12-12T04:43:58.727400Z",
     "iopub.status.idle": "2023-12-12T04:43:58.748529Z",
     "shell.execute_reply": "2023-12-12T04:43:58.747154Z",
     "shell.execute_reply.started": "2023-12-12T04:43:58.727765Z"
    }
   },
   "outputs": [
    {
     "data": {
      "text/html": [
       "<div>\n",
       "<style scoped>\n",
       "    .dataframe tbody tr th:only-of-type {\n",
       "        vertical-align: middle;\n",
       "    }\n",
       "\n",
       "    .dataframe tbody tr th {\n",
       "        vertical-align: top;\n",
       "    }\n",
       "\n",
       "    .dataframe thead th {\n",
       "        text-align: right;\n",
       "    }\n",
       "</style>\n",
       "<table border=\"1\" class=\"dataframe\">\n",
       "  <thead>\n",
       "    <tr style=\"text-align: right;\">\n",
       "      <th></th>\n",
       "      <th>text</th>\n",
       "      <th>label</th>\n",
       "      <th>sentiment</th>\n",
       "    </tr>\n",
       "  </thead>\n",
       "  <tbody>\n",
       "    <tr>\n",
       "      <th>19930</th>\n",
       "      <td>afte see movie last night leave sense hopeless...</td>\n",
       "      <td>1</td>\n",
       "      <td>(0.24455128205128202, 0.6069597069597069)</td>\n",
       "    </tr>\n",
       "    <tr>\n",
       "      <th>32631</th>\n",
       "      <td>movie show ow sketch patly pass ove one anothe...</td>\n",
       "      <td>0</td>\n",
       "      <td>(-0.02951388888888886, 0.5820436507936507)</td>\n",
       "    </tr>\n",
       "    <tr>\n",
       "      <th>17165</th>\n",
       "      <td>John Wayne one playe film histoy fail fist big...</td>\n",
       "      <td>1</td>\n",
       "      <td>(0.13167388167388167, 0.28614718614718615)</td>\n",
       "    </tr>\n",
       "    <tr>\n",
       "      <th>29585</th>\n",
       "      <td>scewe stoy end Nell heoic taking fo team save ...</td>\n",
       "      <td>0</td>\n",
       "      <td>(0.044318181818181805, 0.6818181818181819)</td>\n",
       "    </tr>\n",
       "    <tr>\n",
       "      <th>10321</th>\n",
       "      <td>I have see movie today fo fist time neve head ...</td>\n",
       "      <td>0</td>\n",
       "      <td>(0.39166666666666666, 0.6761904761904761)</td>\n",
       "    </tr>\n",
       "    <tr>\n",
       "      <th>...</th>\n",
       "      <td>...</td>\n",
       "      <td>...</td>\n",
       "      <td>...</td>\n",
       "    </tr>\n",
       "    <tr>\n",
       "      <th>11813</th>\n",
       "      <td>film without doubt one wost see boe simply cou...</td>\n",
       "      <td>0</td>\n",
       "      <td>(-0.020833333333333343, 0.5005952380952381)</td>\n",
       "    </tr>\n",
       "    <tr>\n",
       "      <th>6339</th>\n",
       "      <td>couple cowpoke help goup Momons coss ough coun...</td>\n",
       "      <td>1</td>\n",
       "      <td>(0.3141233766233766, 0.6077922077922079)</td>\n",
       "    </tr>\n",
       "    <tr>\n",
       "      <th>16324</th>\n",
       "      <td>Manhattan apatment dwelle put kind inconvenien...</td>\n",
       "      <td>1</td>\n",
       "      <td>(0.3073593073593074, 0.5193722943722945)</td>\n",
       "    </tr>\n",
       "    <tr>\n",
       "      <th>7664</th>\n",
       "      <td>Mockney come Bighton despite poo eception Biti...</td>\n",
       "      <td>0</td>\n",
       "      <td>(0.04999999999999999, 0.29500000000000004)</td>\n",
       "    </tr>\n",
       "    <tr>\n",
       "      <th>34595</th>\n",
       "      <td>mess enty IMDb I have yet stumble acoss peviou...</td>\n",
       "      <td>0</td>\n",
       "      <td>(0.041666666666666664, 0.30833333333333335)</td>\n",
       "    </tr>\n",
       "  </tbody>\n",
       "</table>\n",
       "<p>10000 rows × 3 columns</p>\n",
       "</div>"
      ],
      "text/plain": [
       "                                                    text  label  \\\n",
       "19930  afte see movie last night leave sense hopeless...      1   \n",
       "32631  movie show ow sketch patly pass ove one anothe...      0   \n",
       "17165  John Wayne one playe film histoy fail fist big...      1   \n",
       "29585  scewe stoy end Nell heoic taking fo team save ...      0   \n",
       "10321  I have see movie today fo fist time neve head ...      0   \n",
       "...                                                  ...    ...   \n",
       "11813  film without doubt one wost see boe simply cou...      0   \n",
       "6339   couple cowpoke help goup Momons coss ough coun...      1   \n",
       "16324  Manhattan apatment dwelle put kind inconvenien...      1   \n",
       "7664   Mockney come Bighton despite poo eception Biti...      0   \n",
       "34595  mess enty IMDb I have yet stumble acoss peviou...      0   \n",
       "\n",
       "                                         sentiment  \n",
       "19930    (0.24455128205128202, 0.6069597069597069)  \n",
       "32631   (-0.02951388888888886, 0.5820436507936507)  \n",
       "17165   (0.13167388167388167, 0.28614718614718615)  \n",
       "29585   (0.044318181818181805, 0.6818181818181819)  \n",
       "10321    (0.39166666666666666, 0.6761904761904761)  \n",
       "...                                            ...  \n",
       "11813  (-0.020833333333333343, 0.5005952380952381)  \n",
       "6339      (0.3141233766233766, 0.6077922077922079)  \n",
       "16324     (0.3073593073593074, 0.5193722943722945)  \n",
       "7664    (0.04999999999999999, 0.29500000000000004)  \n",
       "34595  (0.041666666666666664, 0.30833333333333335)  \n",
       "\n",
       "[10000 rows x 3 columns]"
      ]
     },
     "execution_count": 39,
     "metadata": {},
     "output_type": "execute_result"
    }
   ],
   "source": [
    "train"
   ]
  },
  {
   "cell_type": "code",
   "execution_count": 40,
   "metadata": {
    "execution": {
     "iopub.execute_input": "2023-12-12T04:43:58.750363Z",
     "iopub.status.busy": "2023-12-12T04:43:58.749982Z",
     "iopub.status.idle": "2023-12-12T04:43:58.756806Z",
     "shell.execute_reply": "2023-12-12T04:43:58.755677Z",
     "shell.execute_reply.started": "2023-12-12T04:43:58.750333Z"
    }
   },
   "outputs": [],
   "source": [
    "sentiment_series=train['sentiment'].tolist()"
   ]
  },
  {
   "cell_type": "code",
   "execution_count": 41,
   "metadata": {
    "execution": {
     "iopub.execute_input": "2023-12-12T04:43:58.758419Z",
     "iopub.status.busy": "2023-12-12T04:43:58.758074Z",
     "iopub.status.idle": "2023-12-12T04:43:58.783650Z",
     "shell.execute_reply": "2023-12-12T04:43:58.782416Z",
     "shell.execute_reply.started": "2023-12-12T04:43:58.758390Z"
    }
   },
   "outputs": [],
   "source": [
    "columns=['polarity','subjectivity']\n",
    "df1=pd.DataFrame(sentiment_series,columns=columns,index=train.index)"
   ]
  },
  {
   "cell_type": "code",
   "execution_count": 42,
   "metadata": {
    "execution": {
     "iopub.execute_input": "2023-12-12T04:43:58.785392Z",
     "iopub.status.busy": "2023-12-12T04:43:58.785040Z",
     "iopub.status.idle": "2023-12-12T04:43:58.802916Z",
     "shell.execute_reply": "2023-12-12T04:43:58.801568Z",
     "shell.execute_reply.started": "2023-12-12T04:43:58.785355Z"
    }
   },
   "outputs": [
    {
     "data": {
      "text/html": [
       "<div>\n",
       "<style scoped>\n",
       "    .dataframe tbody tr th:only-of-type {\n",
       "        vertical-align: middle;\n",
       "    }\n",
       "\n",
       "    .dataframe tbody tr th {\n",
       "        vertical-align: top;\n",
       "    }\n",
       "\n",
       "    .dataframe thead th {\n",
       "        text-align: right;\n",
       "    }\n",
       "</style>\n",
       "<table border=\"1\" class=\"dataframe\">\n",
       "  <thead>\n",
       "    <tr style=\"text-align: right;\">\n",
       "      <th></th>\n",
       "      <th>polarity</th>\n",
       "      <th>subjectivity</th>\n",
       "    </tr>\n",
       "  </thead>\n",
       "  <tbody>\n",
       "    <tr>\n",
       "      <th>19930</th>\n",
       "      <td>0.244551</td>\n",
       "      <td>0.606960</td>\n",
       "    </tr>\n",
       "    <tr>\n",
       "      <th>32631</th>\n",
       "      <td>-0.029514</td>\n",
       "      <td>0.582044</td>\n",
       "    </tr>\n",
       "    <tr>\n",
       "      <th>17165</th>\n",
       "      <td>0.131674</td>\n",
       "      <td>0.286147</td>\n",
       "    </tr>\n",
       "    <tr>\n",
       "      <th>29585</th>\n",
       "      <td>0.044318</td>\n",
       "      <td>0.681818</td>\n",
       "    </tr>\n",
       "    <tr>\n",
       "      <th>10321</th>\n",
       "      <td>0.391667</td>\n",
       "      <td>0.676190</td>\n",
       "    </tr>\n",
       "    <tr>\n",
       "      <th>...</th>\n",
       "      <td>...</td>\n",
       "      <td>...</td>\n",
       "    </tr>\n",
       "    <tr>\n",
       "      <th>11813</th>\n",
       "      <td>-0.020833</td>\n",
       "      <td>0.500595</td>\n",
       "    </tr>\n",
       "    <tr>\n",
       "      <th>6339</th>\n",
       "      <td>0.314123</td>\n",
       "      <td>0.607792</td>\n",
       "    </tr>\n",
       "    <tr>\n",
       "      <th>16324</th>\n",
       "      <td>0.307359</td>\n",
       "      <td>0.519372</td>\n",
       "    </tr>\n",
       "    <tr>\n",
       "      <th>7664</th>\n",
       "      <td>0.050000</td>\n",
       "      <td>0.295000</td>\n",
       "    </tr>\n",
       "    <tr>\n",
       "      <th>34595</th>\n",
       "      <td>0.041667</td>\n",
       "      <td>0.308333</td>\n",
       "    </tr>\n",
       "  </tbody>\n",
       "</table>\n",
       "<p>10000 rows × 2 columns</p>\n",
       "</div>"
      ],
      "text/plain": [
       "       polarity  subjectivity\n",
       "19930  0.244551      0.606960\n",
       "32631 -0.029514      0.582044\n",
       "17165  0.131674      0.286147\n",
       "29585  0.044318      0.681818\n",
       "10321  0.391667      0.676190\n",
       "...         ...           ...\n",
       "11813 -0.020833      0.500595\n",
       "6339   0.314123      0.607792\n",
       "16324  0.307359      0.519372\n",
       "7664   0.050000      0.295000\n",
       "34595  0.041667      0.308333\n",
       "\n",
       "[10000 rows x 2 columns]"
      ]
     },
     "execution_count": 42,
     "metadata": {},
     "output_type": "execute_result"
    }
   ],
   "source": [
    "df1"
   ]
  },
  {
   "cell_type": "code",
   "execution_count": 43,
   "metadata": {
    "execution": {
     "iopub.execute_input": "2023-12-12T04:43:58.804900Z",
     "iopub.status.busy": "2023-12-12T04:43:58.804362Z",
     "iopub.status.idle": "2023-12-12T04:43:58.830693Z",
     "shell.execute_reply": "2023-12-12T04:43:58.829509Z",
     "shell.execute_reply.started": "2023-12-12T04:43:58.804864Z"
    }
   },
   "outputs": [
    {
     "data": {
      "text/html": [
       "<div>\n",
       "<style scoped>\n",
       "    .dataframe tbody tr th:only-of-type {\n",
       "        vertical-align: middle;\n",
       "    }\n",
       "\n",
       "    .dataframe tbody tr th {\n",
       "        vertical-align: top;\n",
       "    }\n",
       "\n",
       "    .dataframe thead th {\n",
       "        text-align: right;\n",
       "    }\n",
       "</style>\n",
       "<table border=\"1\" class=\"dataframe\">\n",
       "  <thead>\n",
       "    <tr style=\"text-align: right;\">\n",
       "      <th></th>\n",
       "      <th>text</th>\n",
       "      <th>label</th>\n",
       "      <th>sentiment</th>\n",
       "      <th>polarity</th>\n",
       "      <th>subjectivity</th>\n",
       "    </tr>\n",
       "  </thead>\n",
       "  <tbody>\n",
       "    <tr>\n",
       "      <th>19930</th>\n",
       "      <td>afte see movie last night leave sense hopeless...</td>\n",
       "      <td>1</td>\n",
       "      <td>(0.24455128205128202, 0.6069597069597069)</td>\n",
       "      <td>0.244551</td>\n",
       "      <td>0.606960</td>\n",
       "    </tr>\n",
       "    <tr>\n",
       "      <th>32631</th>\n",
       "      <td>movie show ow sketch patly pass ove one anothe...</td>\n",
       "      <td>0</td>\n",
       "      <td>(-0.02951388888888886, 0.5820436507936507)</td>\n",
       "      <td>-0.029514</td>\n",
       "      <td>0.582044</td>\n",
       "    </tr>\n",
       "    <tr>\n",
       "      <th>17165</th>\n",
       "      <td>John Wayne one playe film histoy fail fist big...</td>\n",
       "      <td>1</td>\n",
       "      <td>(0.13167388167388167, 0.28614718614718615)</td>\n",
       "      <td>0.131674</td>\n",
       "      <td>0.286147</td>\n",
       "    </tr>\n",
       "    <tr>\n",
       "      <th>29585</th>\n",
       "      <td>scewe stoy end Nell heoic taking fo team save ...</td>\n",
       "      <td>0</td>\n",
       "      <td>(0.044318181818181805, 0.6818181818181819)</td>\n",
       "      <td>0.044318</td>\n",
       "      <td>0.681818</td>\n",
       "    </tr>\n",
       "    <tr>\n",
       "      <th>10321</th>\n",
       "      <td>I have see movie today fo fist time neve head ...</td>\n",
       "      <td>0</td>\n",
       "      <td>(0.39166666666666666, 0.6761904761904761)</td>\n",
       "      <td>0.391667</td>\n",
       "      <td>0.676190</td>\n",
       "    </tr>\n",
       "    <tr>\n",
       "      <th>...</th>\n",
       "      <td>...</td>\n",
       "      <td>...</td>\n",
       "      <td>...</td>\n",
       "      <td>...</td>\n",
       "      <td>...</td>\n",
       "    </tr>\n",
       "    <tr>\n",
       "      <th>11813</th>\n",
       "      <td>film without doubt one wost see boe simply cou...</td>\n",
       "      <td>0</td>\n",
       "      <td>(-0.020833333333333343, 0.5005952380952381)</td>\n",
       "      <td>-0.020833</td>\n",
       "      <td>0.500595</td>\n",
       "    </tr>\n",
       "    <tr>\n",
       "      <th>6339</th>\n",
       "      <td>couple cowpoke help goup Momons coss ough coun...</td>\n",
       "      <td>1</td>\n",
       "      <td>(0.3141233766233766, 0.6077922077922079)</td>\n",
       "      <td>0.314123</td>\n",
       "      <td>0.607792</td>\n",
       "    </tr>\n",
       "    <tr>\n",
       "      <th>16324</th>\n",
       "      <td>Manhattan apatment dwelle put kind inconvenien...</td>\n",
       "      <td>1</td>\n",
       "      <td>(0.3073593073593074, 0.5193722943722945)</td>\n",
       "      <td>0.307359</td>\n",
       "      <td>0.519372</td>\n",
       "    </tr>\n",
       "    <tr>\n",
       "      <th>7664</th>\n",
       "      <td>Mockney come Bighton despite poo eception Biti...</td>\n",
       "      <td>0</td>\n",
       "      <td>(0.04999999999999999, 0.29500000000000004)</td>\n",
       "      <td>0.050000</td>\n",
       "      <td>0.295000</td>\n",
       "    </tr>\n",
       "    <tr>\n",
       "      <th>34595</th>\n",
       "      <td>mess enty IMDb I have yet stumble acoss peviou...</td>\n",
       "      <td>0</td>\n",
       "      <td>(0.041666666666666664, 0.30833333333333335)</td>\n",
       "      <td>0.041667</td>\n",
       "      <td>0.308333</td>\n",
       "    </tr>\n",
       "  </tbody>\n",
       "</table>\n",
       "<p>10000 rows × 5 columns</p>\n",
       "</div>"
      ],
      "text/plain": [
       "                                                    text  label  \\\n",
       "19930  afte see movie last night leave sense hopeless...      1   \n",
       "32631  movie show ow sketch patly pass ove one anothe...      0   \n",
       "17165  John Wayne one playe film histoy fail fist big...      1   \n",
       "29585  scewe stoy end Nell heoic taking fo team save ...      0   \n",
       "10321  I have see movie today fo fist time neve head ...      0   \n",
       "...                                                  ...    ...   \n",
       "11813  film without doubt one wost see boe simply cou...      0   \n",
       "6339   couple cowpoke help goup Momons coss ough coun...      1   \n",
       "16324  Manhattan apatment dwelle put kind inconvenien...      1   \n",
       "7664   Mockney come Bighton despite poo eception Biti...      0   \n",
       "34595  mess enty IMDb I have yet stumble acoss peviou...      0   \n",
       "\n",
       "                                         sentiment  polarity  subjectivity  \n",
       "19930    (0.24455128205128202, 0.6069597069597069)  0.244551      0.606960  \n",
       "32631   (-0.02951388888888886, 0.5820436507936507) -0.029514      0.582044  \n",
       "17165   (0.13167388167388167, 0.28614718614718615)  0.131674      0.286147  \n",
       "29585   (0.044318181818181805, 0.6818181818181819)  0.044318      0.681818  \n",
       "10321    (0.39166666666666666, 0.6761904761904761)  0.391667      0.676190  \n",
       "...                                            ...       ...           ...  \n",
       "11813  (-0.020833333333333343, 0.5005952380952381) -0.020833      0.500595  \n",
       "6339      (0.3141233766233766, 0.6077922077922079)  0.314123      0.607792  \n",
       "16324     (0.3073593073593074, 0.5193722943722945)  0.307359      0.519372  \n",
       "7664    (0.04999999999999999, 0.29500000000000004)  0.050000      0.295000  \n",
       "34595  (0.041666666666666664, 0.30833333333333335)  0.041667      0.308333  \n",
       "\n",
       "[10000 rows x 5 columns]"
      ]
     },
     "execution_count": 43,
     "metadata": {},
     "output_type": "execute_result"
    }
   ],
   "source": [
    "result=pd.concat([train,df1],axis=1)\n",
    "result"
   ]
  },
  {
   "cell_type": "code",
   "execution_count": 44,
   "metadata": {
    "execution": {
     "iopub.execute_input": "2023-12-12T04:43:58.832969Z",
     "iopub.status.busy": "2023-12-12T04:43:58.832420Z",
     "iopub.status.idle": "2023-12-12T04:43:58.847158Z",
     "shell.execute_reply": "2023-12-12T04:43:58.845960Z",
     "shell.execute_reply.started": "2023-12-12T04:43:58.832926Z"
    }
   },
   "outputs": [],
   "source": [
    "result.drop(['sentiment'],axis=1,inplace=True)"
   ]
  },
  {
   "cell_type": "code",
   "execution_count": 45,
   "metadata": {
    "execution": {
     "iopub.execute_input": "2023-12-12T04:43:58.849079Z",
     "iopub.status.busy": "2023-12-12T04:43:58.848733Z",
     "iopub.status.idle": "2023-12-12T04:43:58.866032Z",
     "shell.execute_reply": "2023-12-12T04:43:58.864808Z",
     "shell.execute_reply.started": "2023-12-12T04:43:58.849050Z"
    }
   },
   "outputs": [
    {
     "data": {
      "text/html": [
       "<div>\n",
       "<style scoped>\n",
       "    .dataframe tbody tr th:only-of-type {\n",
       "        vertical-align: middle;\n",
       "    }\n",
       "\n",
       "    .dataframe tbody tr th {\n",
       "        vertical-align: top;\n",
       "    }\n",
       "\n",
       "    .dataframe thead th {\n",
       "        text-align: right;\n",
       "    }\n",
       "</style>\n",
       "<table border=\"1\" class=\"dataframe\">\n",
       "  <thead>\n",
       "    <tr style=\"text-align: right;\">\n",
       "      <th></th>\n",
       "      <th>text</th>\n",
       "      <th>label</th>\n",
       "      <th>polarity</th>\n",
       "      <th>subjectivity</th>\n",
       "    </tr>\n",
       "  </thead>\n",
       "  <tbody>\n",
       "    <tr>\n",
       "      <th>19930</th>\n",
       "      <td>afte see movie last night leave sense hopeless...</td>\n",
       "      <td>1</td>\n",
       "      <td>0.244551</td>\n",
       "      <td>0.606960</td>\n",
       "    </tr>\n",
       "    <tr>\n",
       "      <th>32631</th>\n",
       "      <td>movie show ow sketch patly pass ove one anothe...</td>\n",
       "      <td>0</td>\n",
       "      <td>-0.029514</td>\n",
       "      <td>0.582044</td>\n",
       "    </tr>\n",
       "    <tr>\n",
       "      <th>17165</th>\n",
       "      <td>John Wayne one playe film histoy fail fist big...</td>\n",
       "      <td>1</td>\n",
       "      <td>0.131674</td>\n",
       "      <td>0.286147</td>\n",
       "    </tr>\n",
       "    <tr>\n",
       "      <th>29585</th>\n",
       "      <td>scewe stoy end Nell heoic taking fo team save ...</td>\n",
       "      <td>0</td>\n",
       "      <td>0.044318</td>\n",
       "      <td>0.681818</td>\n",
       "    </tr>\n",
       "    <tr>\n",
       "      <th>10321</th>\n",
       "      <td>I have see movie today fo fist time neve head ...</td>\n",
       "      <td>0</td>\n",
       "      <td>0.391667</td>\n",
       "      <td>0.676190</td>\n",
       "    </tr>\n",
       "    <tr>\n",
       "      <th>...</th>\n",
       "      <td>...</td>\n",
       "      <td>...</td>\n",
       "      <td>...</td>\n",
       "      <td>...</td>\n",
       "    </tr>\n",
       "    <tr>\n",
       "      <th>11813</th>\n",
       "      <td>film without doubt one wost see boe simply cou...</td>\n",
       "      <td>0</td>\n",
       "      <td>-0.020833</td>\n",
       "      <td>0.500595</td>\n",
       "    </tr>\n",
       "    <tr>\n",
       "      <th>6339</th>\n",
       "      <td>couple cowpoke help goup Momons coss ough coun...</td>\n",
       "      <td>1</td>\n",
       "      <td>0.314123</td>\n",
       "      <td>0.607792</td>\n",
       "    </tr>\n",
       "    <tr>\n",
       "      <th>16324</th>\n",
       "      <td>Manhattan apatment dwelle put kind inconvenien...</td>\n",
       "      <td>1</td>\n",
       "      <td>0.307359</td>\n",
       "      <td>0.519372</td>\n",
       "    </tr>\n",
       "    <tr>\n",
       "      <th>7664</th>\n",
       "      <td>Mockney come Bighton despite poo eception Biti...</td>\n",
       "      <td>0</td>\n",
       "      <td>0.050000</td>\n",
       "      <td>0.295000</td>\n",
       "    </tr>\n",
       "    <tr>\n",
       "      <th>34595</th>\n",
       "      <td>mess enty IMDb I have yet stumble acoss peviou...</td>\n",
       "      <td>0</td>\n",
       "      <td>0.041667</td>\n",
       "      <td>0.308333</td>\n",
       "    </tr>\n",
       "  </tbody>\n",
       "</table>\n",
       "<p>10000 rows × 4 columns</p>\n",
       "</div>"
      ],
      "text/plain": [
       "                                                    text  label  polarity  \\\n",
       "19930  afte see movie last night leave sense hopeless...      1  0.244551   \n",
       "32631  movie show ow sketch patly pass ove one anothe...      0 -0.029514   \n",
       "17165  John Wayne one playe film histoy fail fist big...      1  0.131674   \n",
       "29585  scewe stoy end Nell heoic taking fo team save ...      0  0.044318   \n",
       "10321  I have see movie today fo fist time neve head ...      0  0.391667   \n",
       "...                                                  ...    ...       ...   \n",
       "11813  film without doubt one wost see boe simply cou...      0 -0.020833   \n",
       "6339   couple cowpoke help goup Momons coss ough coun...      1  0.314123   \n",
       "16324  Manhattan apatment dwelle put kind inconvenien...      1  0.307359   \n",
       "7664   Mockney come Bighton despite poo eception Biti...      0  0.050000   \n",
       "34595  mess enty IMDb I have yet stumble acoss peviou...      0  0.041667   \n",
       "\n",
       "       subjectivity  \n",
       "19930      0.606960  \n",
       "32631      0.582044  \n",
       "17165      0.286147  \n",
       "29585      0.681818  \n",
       "10321      0.676190  \n",
       "...             ...  \n",
       "11813      0.500595  \n",
       "6339       0.607792  \n",
       "16324      0.519372  \n",
       "7664       0.295000  \n",
       "34595      0.308333  \n",
       "\n",
       "[10000 rows x 4 columns]"
      ]
     },
     "execution_count": 45,
     "metadata": {},
     "output_type": "execute_result"
    }
   ],
   "source": [
    "result"
   ]
  },
  {
   "cell_type": "code",
   "execution_count": 46,
   "metadata": {
    "execution": {
     "iopub.execute_input": "2023-12-12T04:43:58.868066Z",
     "iopub.status.busy": "2023-12-12T04:43:58.867576Z",
     "iopub.status.idle": "2023-12-12T04:43:58.879077Z",
     "shell.execute_reply": "2023-12-12T04:43:58.877993Z",
     "shell.execute_reply.started": "2023-12-12T04:43:58.868017Z"
    }
   },
   "outputs": [],
   "source": [
    "result.loc[result['polarity']>=0.3,'Sentiment']='Positive'\n",
    "result.loc[result['polarity']<0.3,'Sentiment']='Negative'"
   ]
  },
  {
   "cell_type": "code",
   "execution_count": 47,
   "metadata": {
    "execution": {
     "iopub.execute_input": "2023-12-12T04:43:58.881210Z",
     "iopub.status.busy": "2023-12-12T04:43:58.880865Z",
     "iopub.status.idle": "2023-12-12T04:43:58.903070Z",
     "shell.execute_reply": "2023-12-12T04:43:58.901902Z",
     "shell.execute_reply.started": "2023-12-12T04:43:58.881180Z"
    }
   },
   "outputs": [
    {
     "data": {
      "text/html": [
       "<div>\n",
       "<style scoped>\n",
       "    .dataframe tbody tr th:only-of-type {\n",
       "        vertical-align: middle;\n",
       "    }\n",
       "\n",
       "    .dataframe tbody tr th {\n",
       "        vertical-align: top;\n",
       "    }\n",
       "\n",
       "    .dataframe thead th {\n",
       "        text-align: right;\n",
       "    }\n",
       "</style>\n",
       "<table border=\"1\" class=\"dataframe\">\n",
       "  <thead>\n",
       "    <tr style=\"text-align: right;\">\n",
       "      <th></th>\n",
       "      <th>text</th>\n",
       "      <th>label</th>\n",
       "      <th>polarity</th>\n",
       "      <th>subjectivity</th>\n",
       "      <th>Sentiment</th>\n",
       "    </tr>\n",
       "  </thead>\n",
       "  <tbody>\n",
       "    <tr>\n",
       "      <th>19930</th>\n",
       "      <td>afte see movie last night leave sense hopeless...</td>\n",
       "      <td>1</td>\n",
       "      <td>0.244551</td>\n",
       "      <td>0.606960</td>\n",
       "      <td>Negative</td>\n",
       "    </tr>\n",
       "    <tr>\n",
       "      <th>32631</th>\n",
       "      <td>movie show ow sketch patly pass ove one anothe...</td>\n",
       "      <td>0</td>\n",
       "      <td>-0.029514</td>\n",
       "      <td>0.582044</td>\n",
       "      <td>Negative</td>\n",
       "    </tr>\n",
       "    <tr>\n",
       "      <th>17165</th>\n",
       "      <td>John Wayne one playe film histoy fail fist big...</td>\n",
       "      <td>1</td>\n",
       "      <td>0.131674</td>\n",
       "      <td>0.286147</td>\n",
       "      <td>Negative</td>\n",
       "    </tr>\n",
       "    <tr>\n",
       "      <th>29585</th>\n",
       "      <td>scewe stoy end Nell heoic taking fo team save ...</td>\n",
       "      <td>0</td>\n",
       "      <td>0.044318</td>\n",
       "      <td>0.681818</td>\n",
       "      <td>Negative</td>\n",
       "    </tr>\n",
       "    <tr>\n",
       "      <th>10321</th>\n",
       "      <td>I have see movie today fo fist time neve head ...</td>\n",
       "      <td>0</td>\n",
       "      <td>0.391667</td>\n",
       "      <td>0.676190</td>\n",
       "      <td>Positive</td>\n",
       "    </tr>\n",
       "    <tr>\n",
       "      <th>...</th>\n",
       "      <td>...</td>\n",
       "      <td>...</td>\n",
       "      <td>...</td>\n",
       "      <td>...</td>\n",
       "      <td>...</td>\n",
       "    </tr>\n",
       "    <tr>\n",
       "      <th>11813</th>\n",
       "      <td>film without doubt one wost see boe simply cou...</td>\n",
       "      <td>0</td>\n",
       "      <td>-0.020833</td>\n",
       "      <td>0.500595</td>\n",
       "      <td>Negative</td>\n",
       "    </tr>\n",
       "    <tr>\n",
       "      <th>6339</th>\n",
       "      <td>couple cowpoke help goup Momons coss ough coun...</td>\n",
       "      <td>1</td>\n",
       "      <td>0.314123</td>\n",
       "      <td>0.607792</td>\n",
       "      <td>Positive</td>\n",
       "    </tr>\n",
       "    <tr>\n",
       "      <th>16324</th>\n",
       "      <td>Manhattan apatment dwelle put kind inconvenien...</td>\n",
       "      <td>1</td>\n",
       "      <td>0.307359</td>\n",
       "      <td>0.519372</td>\n",
       "      <td>Positive</td>\n",
       "    </tr>\n",
       "    <tr>\n",
       "      <th>7664</th>\n",
       "      <td>Mockney come Bighton despite poo eception Biti...</td>\n",
       "      <td>0</td>\n",
       "      <td>0.050000</td>\n",
       "      <td>0.295000</td>\n",
       "      <td>Negative</td>\n",
       "    </tr>\n",
       "    <tr>\n",
       "      <th>34595</th>\n",
       "      <td>mess enty IMDb I have yet stumble acoss peviou...</td>\n",
       "      <td>0</td>\n",
       "      <td>0.041667</td>\n",
       "      <td>0.308333</td>\n",
       "      <td>Negative</td>\n",
       "    </tr>\n",
       "  </tbody>\n",
       "</table>\n",
       "<p>10000 rows × 5 columns</p>\n",
       "</div>"
      ],
      "text/plain": [
       "                                                    text  label  polarity  \\\n",
       "19930  afte see movie last night leave sense hopeless...      1  0.244551   \n",
       "32631  movie show ow sketch patly pass ove one anothe...      0 -0.029514   \n",
       "17165  John Wayne one playe film histoy fail fist big...      1  0.131674   \n",
       "29585  scewe stoy end Nell heoic taking fo team save ...      0  0.044318   \n",
       "10321  I have see movie today fo fist time neve head ...      0  0.391667   \n",
       "...                                                  ...    ...       ...   \n",
       "11813  film without doubt one wost see boe simply cou...      0 -0.020833   \n",
       "6339   couple cowpoke help goup Momons coss ough coun...      1  0.314123   \n",
       "16324  Manhattan apatment dwelle put kind inconvenien...      1  0.307359   \n",
       "7664   Mockney come Bighton despite poo eception Biti...      0  0.050000   \n",
       "34595  mess enty IMDb I have yet stumble acoss peviou...      0  0.041667   \n",
       "\n",
       "       subjectivity Sentiment  \n",
       "19930      0.606960  Negative  \n",
       "32631      0.582044  Negative  \n",
       "17165      0.286147  Negative  \n",
       "29585      0.681818  Negative  \n",
       "10321      0.676190  Positive  \n",
       "...             ...       ...  \n",
       "11813      0.500595  Negative  \n",
       "6339       0.607792  Positive  \n",
       "16324      0.519372  Positive  \n",
       "7664       0.295000  Negative  \n",
       "34595      0.308333  Negative  \n",
       "\n",
       "[10000 rows x 5 columns]"
      ]
     },
     "execution_count": 47,
     "metadata": {},
     "output_type": "execute_result"
    }
   ],
   "source": [
    "result"
   ]
  },
  {
   "cell_type": "code",
   "execution_count": 48,
   "metadata": {
    "execution": {
     "iopub.execute_input": "2023-12-12T04:43:58.904741Z",
     "iopub.status.busy": "2023-12-12T04:43:58.904362Z",
     "iopub.status.idle": "2023-12-12T04:43:58.914690Z",
     "shell.execute_reply": "2023-12-12T04:43:58.913490Z",
     "shell.execute_reply.started": "2023-12-12T04:43:58.904708Z"
    }
   },
   "outputs": [],
   "source": [
    "result.loc[result['label']==1, 'Sentiment_label'] = 1\n",
    "result.loc[result['label']==0, 'Sentiment_label'] = 0"
   ]
  },
  {
   "cell_type": "code",
   "execution_count": 49,
   "metadata": {
    "execution": {
     "iopub.execute_input": "2023-12-12T04:43:58.916875Z",
     "iopub.status.busy": "2023-12-12T04:43:58.916495Z",
     "iopub.status.idle": "2023-12-12T04:43:58.938175Z",
     "shell.execute_reply": "2023-12-12T04:43:58.936948Z",
     "shell.execute_reply.started": "2023-12-12T04:43:58.916845Z"
    }
   },
   "outputs": [
    {
     "data": {
      "text/html": [
       "<div>\n",
       "<style scoped>\n",
       "    .dataframe tbody tr th:only-of-type {\n",
       "        vertical-align: middle;\n",
       "    }\n",
       "\n",
       "    .dataframe tbody tr th {\n",
       "        vertical-align: top;\n",
       "    }\n",
       "\n",
       "    .dataframe thead th {\n",
       "        text-align: right;\n",
       "    }\n",
       "</style>\n",
       "<table border=\"1\" class=\"dataframe\">\n",
       "  <thead>\n",
       "    <tr style=\"text-align: right;\">\n",
       "      <th></th>\n",
       "      <th>text</th>\n",
       "      <th>label</th>\n",
       "      <th>polarity</th>\n",
       "      <th>subjectivity</th>\n",
       "      <th>Sentiment</th>\n",
       "      <th>Sentiment_label</th>\n",
       "    </tr>\n",
       "  </thead>\n",
       "  <tbody>\n",
       "    <tr>\n",
       "      <th>19930</th>\n",
       "      <td>afte see movie last night leave sense hopeless...</td>\n",
       "      <td>1</td>\n",
       "      <td>0.244551</td>\n",
       "      <td>0.606960</td>\n",
       "      <td>Negative</td>\n",
       "      <td>1.0</td>\n",
       "    </tr>\n",
       "    <tr>\n",
       "      <th>32631</th>\n",
       "      <td>movie show ow sketch patly pass ove one anothe...</td>\n",
       "      <td>0</td>\n",
       "      <td>-0.029514</td>\n",
       "      <td>0.582044</td>\n",
       "      <td>Negative</td>\n",
       "      <td>0.0</td>\n",
       "    </tr>\n",
       "    <tr>\n",
       "      <th>17165</th>\n",
       "      <td>John Wayne one playe film histoy fail fist big...</td>\n",
       "      <td>1</td>\n",
       "      <td>0.131674</td>\n",
       "      <td>0.286147</td>\n",
       "      <td>Negative</td>\n",
       "      <td>1.0</td>\n",
       "    </tr>\n",
       "    <tr>\n",
       "      <th>29585</th>\n",
       "      <td>scewe stoy end Nell heoic taking fo team save ...</td>\n",
       "      <td>0</td>\n",
       "      <td>0.044318</td>\n",
       "      <td>0.681818</td>\n",
       "      <td>Negative</td>\n",
       "      <td>0.0</td>\n",
       "    </tr>\n",
       "    <tr>\n",
       "      <th>10321</th>\n",
       "      <td>I have see movie today fo fist time neve head ...</td>\n",
       "      <td>0</td>\n",
       "      <td>0.391667</td>\n",
       "      <td>0.676190</td>\n",
       "      <td>Positive</td>\n",
       "      <td>0.0</td>\n",
       "    </tr>\n",
       "    <tr>\n",
       "      <th>...</th>\n",
       "      <td>...</td>\n",
       "      <td>...</td>\n",
       "      <td>...</td>\n",
       "      <td>...</td>\n",
       "      <td>...</td>\n",
       "      <td>...</td>\n",
       "    </tr>\n",
       "    <tr>\n",
       "      <th>11813</th>\n",
       "      <td>film without doubt one wost see boe simply cou...</td>\n",
       "      <td>0</td>\n",
       "      <td>-0.020833</td>\n",
       "      <td>0.500595</td>\n",
       "      <td>Negative</td>\n",
       "      <td>0.0</td>\n",
       "    </tr>\n",
       "    <tr>\n",
       "      <th>6339</th>\n",
       "      <td>couple cowpoke help goup Momons coss ough coun...</td>\n",
       "      <td>1</td>\n",
       "      <td>0.314123</td>\n",
       "      <td>0.607792</td>\n",
       "      <td>Positive</td>\n",
       "      <td>1.0</td>\n",
       "    </tr>\n",
       "    <tr>\n",
       "      <th>16324</th>\n",
       "      <td>Manhattan apatment dwelle put kind inconvenien...</td>\n",
       "      <td>1</td>\n",
       "      <td>0.307359</td>\n",
       "      <td>0.519372</td>\n",
       "      <td>Positive</td>\n",
       "      <td>1.0</td>\n",
       "    </tr>\n",
       "    <tr>\n",
       "      <th>7664</th>\n",
       "      <td>Mockney come Bighton despite poo eception Biti...</td>\n",
       "      <td>0</td>\n",
       "      <td>0.050000</td>\n",
       "      <td>0.295000</td>\n",
       "      <td>Negative</td>\n",
       "      <td>0.0</td>\n",
       "    </tr>\n",
       "    <tr>\n",
       "      <th>34595</th>\n",
       "      <td>mess enty IMDb I have yet stumble acoss peviou...</td>\n",
       "      <td>0</td>\n",
       "      <td>0.041667</td>\n",
       "      <td>0.308333</td>\n",
       "      <td>Negative</td>\n",
       "      <td>0.0</td>\n",
       "    </tr>\n",
       "  </tbody>\n",
       "</table>\n",
       "<p>10000 rows × 6 columns</p>\n",
       "</div>"
      ],
      "text/plain": [
       "                                                    text  label  polarity  \\\n",
       "19930  afte see movie last night leave sense hopeless...      1  0.244551   \n",
       "32631  movie show ow sketch patly pass ove one anothe...      0 -0.029514   \n",
       "17165  John Wayne one playe film histoy fail fist big...      1  0.131674   \n",
       "29585  scewe stoy end Nell heoic taking fo team save ...      0  0.044318   \n",
       "10321  I have see movie today fo fist time neve head ...      0  0.391667   \n",
       "...                                                  ...    ...       ...   \n",
       "11813  film without doubt one wost see boe simply cou...      0 -0.020833   \n",
       "6339   couple cowpoke help goup Momons coss ough coun...      1  0.314123   \n",
       "16324  Manhattan apatment dwelle put kind inconvenien...      1  0.307359   \n",
       "7664   Mockney come Bighton despite poo eception Biti...      0  0.050000   \n",
       "34595  mess enty IMDb I have yet stumble acoss peviou...      0  0.041667   \n",
       "\n",
       "       subjectivity Sentiment  Sentiment_label  \n",
       "19930      0.606960  Negative              1.0  \n",
       "32631      0.582044  Negative              0.0  \n",
       "17165      0.286147  Negative              1.0  \n",
       "29585      0.681818  Negative              0.0  \n",
       "10321      0.676190  Positive              0.0  \n",
       "...             ...       ...              ...  \n",
       "11813      0.500595  Negative              0.0  \n",
       "6339       0.607792  Positive              1.0  \n",
       "16324      0.519372  Positive              1.0  \n",
       "7664       0.295000  Negative              0.0  \n",
       "34595      0.308333  Negative              0.0  \n",
       "\n",
       "[10000 rows x 6 columns]"
      ]
     },
     "execution_count": 49,
     "metadata": {},
     "output_type": "execute_result"
    }
   ],
   "source": [
    "result"
   ]
  },
  {
   "cell_type": "code",
   "execution_count": null,
   "metadata": {},
   "outputs": [],
   "source": []
  }
 ],
 "metadata": {
  "kaggle": {
   "accelerator": "none",
   "dataSources": [
    {
     "datasetId": 429163,
     "sourceId": 816060,
     "sourceType": "datasetVersion"
    }
   ],
   "dockerImageVersionId": 30587,
   "isGpuEnabled": false,
   "isInternetEnabled": true,
   "language": "python",
   "sourceType": "notebook"
  },
  "kernelspec": {
   "display_name": "Python 3 (ipykernel)",
   "language": "python",
   "name": "python3"
  },
  "language_info": {
   "codemirror_mode": {
    "name": "ipython",
    "version": 3
   },
   "file_extension": ".py",
   "mimetype": "text/x-python",
   "name": "python",
   "nbconvert_exporter": "python",
   "pygments_lexer": "ipython3",
   "version": "3.10.9"
  }
 },
 "nbformat": 4,
 "nbformat_minor": 4
}
